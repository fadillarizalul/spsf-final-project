{
  "nbformat": 4,
  "nbformat_minor": 0,
  "metadata": {
    "colab": {
      "name": "spsf-final",
      "provenance": [],
      "authorship_tag": "ABX9TyNcDMu8JJBjpyKjrYFZ8LSC",
      "include_colab_link": true
    },
    "kernelspec": {
      "name": "python3",
      "display_name": "Python 3"
    },
    "language_info": {
      "name": "python"
    }
  },
  "cells": [
    {
      "cell_type": "markdown",
      "metadata": {
        "id": "view-in-github",
        "colab_type": "text"
      },
      "source": [
        "<a href=\"https://colab.research.google.com/github/fadillarizalul/spsf-final-project/blob/main/spsf_final.ipynb\" target=\"_parent\"><img src=\"https://colab.research.google.com/assets/colab-badge.svg\" alt=\"Open In Colab\"/></a>"
      ]
    },
    {
      "cell_type": "markdown",
      "source": [
        "# **Title** : Pemodelan Dinamika Penyebaran COVID-19 Menggunakan Euler dan RK4 dengan Pendekatan Model SIR"
      ],
      "metadata": {
        "id": "ZPBnvbM3qayw"
      }
    },
    {
      "cell_type": "markdown",
      "source": [
        "# Pendahuluan"
      ],
      "metadata": {
        "id": "1wKOUI-8Fipk"
      }
    },
    {
      "cell_type": "markdown",
      "source": [
        "Dalam hal ini, dapat dibuat model interaksi di antara orang-orang yang serupa dengan interaksi fisis dari dua atau lebih partikel atau molekul. Masing-masing mewakili faktor atau parameter tertentu yang dapat memberikan pengaruh terhadap keseluruhan model penyebaran COVID-19. Dalam pemodelan SIR, sistem seperti ini dimodelkan sebagai kumpulan entitas pembuat keputusan yang memiliki parameter masing-masing. Model SIR menggunakan model deterministik yang dikembangkan oleh Kermack dan McKendrick pada tahun 1920. Model SIR bergantung pada tiga parameter, yaitu **S**: jumlah individu dalam populasi yang belum terinfeksi tetapi susceptible terhadap infeksi, **I**: jumlah individu dalam populasi yang terinfeksi, dan **R**: jumlah individu yang terjangkit penyakit tetapi pulih karena itu telah menjadi kebal terhadap virus serta parameter **A**: populasi awal dari daerah yang dimodelkan, **r**: tingkat penularan penyakit atau tingkat di mana seseorang rentan terinfeksi, **a**: tingkat pemulihan, dan **μ**: tingkat kematian keseluruhan. Tiap-tiap parameter secara individual menilai situasinya dan membuat keputusan berdasarkan seperangkat aturan.\n",
        "\n",
        "Berdasarkan uraian singkat mengenai model di atas, penelitian ini bertujuan untuk melihat pengaruh parameter dinamika dengan simulasi berbasis agen dan melihat pengaruhnya pada hasil simulasi. Secara garis besar proses simulasi wabah COVID-19 dapat digambarkan sebagai berikut:\n",
        "\n",
        "Keadaan awal pathogen sehat (normal), memiliki riwayat penyakit penyerta, dan Orang Tanpa Gejala\n",
        "Di awal simulasi, terdapat agen yang terinfeksi\n",
        "Secara random, orang lain akan tertular, yang tergantung dari tingkat penularan\n",
        "Obat yang terinfeksi lebih lama dari masa inkubasi akan memperoleh kekebalan jika terdapat OTG, jika tidak maka akan sakit\n",
        "Agen yang sakit dengan periode sakit dari periode tertentu akan menjadi penderita berat. Tergantung pada tingkat keparahan dari yang ditentukan. Juga agen yang sakit dapat menjadi pulih dan kebal\n",
        "Jika ada agen sakit parah saat rumah sakit penuh, bisa meninggal. Namun, jika ada kursi kosong yang tersisa, ia akan dirawat di rumah sakit tergantung pada stadium penyakitnya, dan kondisi medis akan terjadi. Peluang acak agen parah untuk menjadi meninggal tergantung dari tingkat kematian yang ditentukan dan komorbid 12% lebih besar berpeluang untuk meninggal. Selain itu, agen yang sakit bisa sembuh dan mempunyai imun.\n",
        "Penguat kekebalan berlangsung selama waktu kekebalan tertentu. Proses simulasi tersebut dilakukan dengan bantuan software NetLogo (Wilensky, 2020). Hasil simulasi dilakukan observasi dengan melihat persentase jumlah agen terdampak, persentase jumlah agen meninggal, dan waktu wabah berlangsung. Simulasi dilakukan secara berulang-ulang agar dapat dilihat variasi-variasi yang ada.  "
      ],
      "metadata": {
        "id": "TxVwhgg_qN6k"
      }
    },
    {
      "cell_type": "markdown",
      "source": [
        "Sebagai langkah pertama dalam proses pemodelan, kita mengidentifikasi variabel independen dan dependen. Variabel independen adalah waktu t, yang diukur dalam beberapa hari. Kita pertimbangkan dua kelompok variabel dependen yang berkaitan. \n",
        "\n",
        "Kelompok variabel dependen pertama mewakili setiap kelompok populasi manusia, masing-masing dalam fungsi waktu yaitu:\n",
        "\n",
        "S = S(t) mewakili proporsi individu rentan,  \n",
        "I = I(t) mewakili proporsi individu terinfeksi dan  \n",
        "R = R(t) mewakili proporsi individu yang pulih dari penyakit.  \n",
        "Kelompok variabel dependen selanjutnya mewakili hasil perbandingan dari masing-masing kategori populaasi dengan total populasi. Dengan demikian, jika N adalah total populasi (Misal: 7.900.000), maka  diperoleh  \n",
        "\n",
        "s(t) = S(t)/N mewakili banyaknya individu rentan,  \n",
        "i(t) = I(t)/N mewakili banyaknya individu terinfeksi dan  \n",
        "r(t) = R(t)/N mewakili banyaknya individu yang pulih dari penyakit.  \n",
        "Mungkin akan terlihat lebih alami untuk bekerja dengan jumlah populasi, namun beberapa perhitungan akan lebih sederhana jika digunakan nilai proporsi sebagai gantinya. Dua kelompok variabel dependen diatas saling proporsional satu sama lain, sehingga salah satu akan kita gunakan untuk memperoleh informasi terkait perkembangan penyakit.  "
      ],
      "metadata": {
        "id": "NSE32GvUGbOU"
      }
    },
    {
      "cell_type": "markdown",
      "source": [
        "Persamaan diferensial model SIR"
      ],
      "metadata": {
        "id": "w8rQxHHhG3H3"
      }
    },
    {
      "cell_type": "markdown",
      "source": [
        "# Metode"
      ],
      "metadata": {
        "id": "EtqONI1EFbRF"
      }
    },
    {
      "cell_type": "markdown",
      "source": [
        "## Metode Euler"
      ],
      "metadata": {
        "id": "ASSkprqeFUof"
      }
    },
    {
      "cell_type": "markdown",
      "source": [
        "## Metode Runge Kutta 4"
      ],
      "metadata": {
        "id": "gBIwS3hEFWTY"
      }
    },
    {
      "cell_type": "markdown",
      "source": [
        "# Implementasi"
      ],
      "metadata": {
        "id": "jsIp625rGCkX"
      }
    },
    {
      "cell_type": "markdown",
      "source": [
        "# Hasil dan Pembahasan"
      ],
      "metadata": {
        "id": "dW2p99eRF72A"
      }
    },
    {
      "cell_type": "code",
      "execution_count": null,
      "metadata": {
        "id": "qeEgAE6op5gz"
      },
      "outputs": [],
      "source": [
        ""
      ]
    }
  ]
}