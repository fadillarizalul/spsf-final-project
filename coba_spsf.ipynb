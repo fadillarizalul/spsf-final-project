{
  "nbformat": 4,
  "nbformat_minor": 0,
  "metadata": {
    "colab": {
      "name": "coba spsf",
      "provenance": [],
      "collapsed_sections": [],
      "authorship_tag": "ABX9TyOR1LBsG5xPUUt19z7R36th",
      "include_colab_link": true
    },
    "kernelspec": {
      "name": "python3",
      "display_name": "Python 3"
    },
    "language_info": {
      "name": "python"
    }
  },
  "cells": [
    {
      "cell_type": "markdown",
      "metadata": {
        "id": "view-in-github",
        "colab_type": "text"
      },
      "source": [
        "<a href=\"https://colab.research.google.com/github/fadillarizalul/spsf-final-project/blob/main/coba_spsf.ipynb\" target=\"_parent\"><img src=\"https://colab.research.google.com/assets/colab-badge.svg\" alt=\"Open In Colab\"/></a>"
      ]
    },
    {
      "cell_type": "markdown",
      "source": [
        "# **Title** : Pemodelan Dinamika Penyebaran COVID-19"
      ],
      "metadata": {
        "id": "ZPBnvbM3qayw"
      }
    },
    {
      "cell_type": "markdown",
      "source": [
        "# Pendahuluan"
      ],
      "metadata": {
        "id": "1wKOUI-8Fipk"
      }
    },
    {
      "cell_type": "markdown",
      "source": [
        "Dalam hal ini, dapat dibuat model interaksi di antara orang-orang yang serupa dengan interaksi fisis dari dua atau lebih partikel atau molekul. Masing-masing mewakili faktor atau parameter tertentu yang dapat memberikan pengaruh terhadap keseluruhan model penyebaran COVID-19. Dalam pemodelan SIR, sistem seperti ini dimodelkan sebagai kumpulan entitas pembuat keputusan yang memiliki parameter masing-masing. Model SIR menggunakan model deterministik yang dikembangkan oleh Kermack dan McKendrick pada tahun 1920. Model SIR bergantung pada tiga parameter, yaitu **S**: jumlah individu dalam populasi yang belum terinfeksi tetapi susceptible terhadap infeksi, **I**: jumlah individu dalam populasi yang terinfeksi, dan **R**: jumlah individu yang terjangkit penyakit tetapi pulih karena itu telah menjadi kebal terhadap virus serta parameter **A**: populasi awal dari daerah yang dimodelkan, **r**: tingkat penularan penyakit atau tingkat di mana seseorang rentan terinfeksi, **a**: tingkat pemulihan, dan **μ**: tingkat kematian keseluruhan. Tiap-tiap parameter secara individual menilai situasinya dan membuat keputusan berdasarkan seperangkat aturan.\n",
        "  "
      ],
      "metadata": {
        "id": "TxVwhgg_qN6k"
      }
    },
    {
      "cell_type": "markdown",
      "source": [
        "Sebagai langkah pertama dalam proses pemodelan, kita mengidentifikasi variabel independen dan dependen. Variabel independen adalah waktu t, yang diukur dalam beberapa hari. Kita pertimbangkan dua kelompok variabel dependen yang berkaitan. \n",
        "\n",
        "Kelompok variabel dependen pertama mewakili setiap kelompok populasi manusia, masing-masing dalam fungsi waktu yaitu:\n",
        "\n",
        "S = S(t) mewakili proporsi individu rentan,  \n",
        "I = I(t) mewakili proporsi individu terinfeksi dan  \n",
        "R = R(t) mewakili proporsi individu yang pulih dari penyakit.  \n",
        "Kelompok variabel dependen selanjutnya mewakili hasil perbandingan dari masing-masing kategori populaasi dengan total populasi. Dengan demikian, jika N adalah total populasi (Misal: 7.900.000), maka  diperoleh  \n",
        "\n",
        "s(t) = S(t)/N mewakili banyaknya individu rentan,  \n",
        "i(t) = I(t)/N mewakili banyaknya individu terinfeksi dan  \n",
        "r(t) = R(t)/N mewakili banyaknya individu yang pulih dari penyakit.  \n",
        "Mungkin akan terlihat lebih alami untuk bekerja dengan jumlah populasi, namun beberapa perhitungan akan lebih sederhana jika digunakan nilai proporsi sebagai gantinya. Dua kelompok variabel dependen diatas saling proporsional satu sama lain, sehingga salah satu akan kita gunakan untuk memperoleh informasi terkait perkembangan penyakit.  "
      ],
      "metadata": {
        "id": "NSE32GvUGbOU"
      }
    },
    {
      "cell_type": "markdown",
      "source": [
        "Persamaan diferensial untuk dinamika suatu penyakit ditentukan oleh model SIR yaitu sebagai berikut  \n",
        "${\\displaystyle \\frac{d S}{d t}} = f(t, S, I, R) = -\\beta S I$  \n",
        "${\\displaystyle \\frac{d I}{d t}} = g(t, S, I, R) = \\beta S I - r I$  \n",
        "${\\displaystyle \\frac{d R}{d t}} = h(t, S, I, R) = r I$  \n"
      ],
      "metadata": {
        "id": "eYA2yU_EMvTl"
      }
    },
    {
      "cell_type": "markdown",
      "source": [
        "**Algoritma**"
      ],
      "metadata": {
        "id": "-zG6IWsiOeI7"
      }
    },
    {
      "cell_type": "markdown",
      "source": [
        "1. Tetapkan input untuk parameter yang ditentukan  \n",
        "2. Tetapkan input *np.zeros()* untuk tiap S, I, dan R  serta timesteps yang diperlukan\n",
        "3. Masukkan persamaan matematis untuk model SIR  \n",
        "4. Lakukan pendekatan dengan metode Euler\n",
        "5. Buat plot model SIR dari metode Euler\n",
        "6. Lakukan pendekatan dari pendekatan metode Runge Kutta 4\n",
        "7. Buat plot model SIR dari pendekatan metode Runge Kutta 4"
      ],
      "metadata": {
        "id": "SsPEKRFdOkLD"
      }
    },
    {
      "cell_type": "markdown",
      "source": [
        "**Flowchat**"
      ],
      "metadata": {
        "id": "lapvR7HkOf0y"
      }
    },
    {
      "cell_type": "markdown",
      "source": [
        "<p align=\"center\">\n",
        "<img src=\"https://user-images.githubusercontent.com/76253393/161672579-f4441ff3-65fd-4761-af4d-b93506fb3f61.png\"\n",
        "</p>"
      ],
      "metadata": {
        "id": "_9P3PUEEiEEz"
      }
    },
    {
      "cell_type": "markdown",
      "source": [
        "**Pseudocode**"
      ],
      "metadata": {
        "id": "GiDKT-iiOg-d"
      }
    },
    {
      "cell_type": "code",
      "source": [
        "inisialisasi variabel yang diperlukan\n",
        "inisialisasi n_step\n",
        "\n",
        "for i in n_step do\n",
        "\n",
        "# metode Euler\n",
        "k1 = A - u*S[i] - (r/N)*I[i]*S[i]\n",
        "l1 = (r*I[i]/N) * S[i] - (u+a) * I[i]\n",
        "m1 = a * I[i] - u * R[i] \n",
        "S[i+1] = S[i] + k1 * h\n",
        "I[i+1] = I[i] + l1 * h\n",
        "R[i+1] = R[i] + m1 * h\n",
        "\n",
        "# metode Runge Kutta 4\n",
        "k1 = A - u*S[i] - (r/N)*I[i]*S[i]\n",
        "l1 = (r*I[i]/N) * S[i] - (u+a) * I[i]\n",
        "m1 = a * I[i] - u * R[i]\n",
        "\n",
        "k2 = A - u*(S[i] + k1*h/2) - (r/N) * (I[i] + l1*h/2) * (S[i] + k1*h/2)\n",
        "l2 = (r/N) * (I[i] + l1*h/2) * (S[i] + k1*h/2) - (u+a)*(I[i] + l1*h/2)\n",
        "m2 = a * (I[i] + l1*h/2) - u*(R[i] + m1*h/2)\n",
        "\n",
        "k3 = A - u*(S[i] + k2*h/2) - (r/N) * (I[i] + l2*h/2) * (S[i] + k2*h/2)\n",
        "l3 = (r/N) * (I[i] + l2*h/2) * (S[i] + k2*h/2) - (u+a) * (I[i] + l2*h/2)\n",
        "m3 = a*(I[i] + l2*h/2) - u*(R[i] + m2*h/2)\n",
        "\n",
        "k4 = A - u*(S[i] + k3*h) - (r/N)*(I[i] + l3*h) * (S[i] + k3*h)\n",
        "l4 = (r/N) * (I[i] + l3*h) * (S[i] + k3*h) - (u+a) * (I[i] + l3*h)\n",
        "m4 = a * (I[i] + l3*h) - u * (R[i] + m3*h)\n",
        "\n",
        "S[i+1] = S[i] + (1.0/6) * (k1 + 2*k2 + 2*k3 + k4) * h\n",
        "I[i+1] = I[i] + (1.0/6) * (l1 + 2*l2 + 2*l3 + l4) * h\n",
        "R[i+1] = R[i] + (1.0/6) * (m1 + 2*m2 + 2*m3 + m4) * h\n",
        "\n",
        "# untuk setiap metode (Euler dan Runge Kutta 4)\n",
        "display plot kurva SIR"
      ],
      "metadata": {
        "id": "ThMdf2RSw-q3"
      },
      "execution_count": null,
      "outputs": []
    },
    {
      "cell_type": "code",
      "source": [
        ""
      ],
      "metadata": {
        "id": "GvuLg5h661tE"
      },
      "execution_count": null,
      "outputs": []
    },
    {
      "cell_type": "markdown",
      "source": [
        "# Metode"
      ],
      "metadata": {
        "id": "EtqONI1EFbRF"
      }
    },
    {
      "cell_type": "markdown",
      "source": [
        "Parameter: N, r, a, miu"
      ],
      "metadata": {
        "id": "gniovULiMDcr"
      }
    },
    {
      "cell_type": "markdown",
      "source": [
        "## Metode Runge Kutta 4"
      ],
      "metadata": {
        "id": "gBIwS3hEFWTY"
      }
    },
    {
      "cell_type": "code",
      "source": [
        ""
      ],
      "metadata": {
        "id": "EjNkDDdi6KKH"
      },
      "execution_count": null,
      "outputs": []
    },
    {
      "cell_type": "code",
      "source": [
        ""
      ],
      "metadata": {
        "id": "rHsv0Vpt6KWH"
      },
      "execution_count": null,
      "outputs": []
    },
    {
      "cell_type": "code",
      "source": [
        "import numpy as np\n",
        "import matplotlib.pyplot as plt\n",
        "\n",
        "# ODE SIR Model\n",
        "def SIR(t,y,p):\n",
        "    N = np.sum(y)\n",
        "    return np.array([\n",
        "        - p[0] * y[0] * y[1] / N,\n",
        "        p[0] * y[0] * y[1] / N - p[1] * y[1],\n",
        "        p[1] * y[1]\n",
        "    ])\n",
        "\n",
        "# ODE SIRD Model\n",
        "def SIRD(t,y,p):\n",
        "    N = np.sum(y)\n",
        "    return np.array([\n",
        "        -p[0] * y[0] * y[1] / N,\n",
        "        p[0] * y[0] * y[1] / N - p[1] * y[1] - p[2] * y[1],\n",
        "        p[1] * y[1],\n",
        "        p[2] * y[1]\n",
        "    ])\n",
        "\n",
        "# Classic Runge-Kutta Method of order 4\n",
        "def RK4(t0, y0, h, f, n, **kwargs):\n",
        "    y = np.empty((n + 1, len(y0)),dtype=np.float64)\n",
        "    y[0,:] = y0\n",
        "    t = np.arange(n + 1) * h + t0\n",
        "    param = kwargs.get(\"parameters\",None)\n",
        "\n",
        "    for i in range(n):\n",
        "        k1 = f(t[i], y[i,:], param)\n",
        "        k2 = f(t[i] + h / 2, y[i,:] + h / 2 * k1, param)\n",
        "        k3 = f(t[i] + h / 2, y[i,:] + h / 2 * k2, param)\n",
        "        k4 = f(t[i] + h, y[i,:] + h * k3, param)\n",
        "        y[i + 1,:] = y[i,:] + h * (k1 + 2 * k2 + 2 * k3 + k4) / 6\n",
        "    return t, y"
      ],
      "metadata": {
        "id": "HOpeN2ISLRXU"
      },
      "execution_count": null,
      "outputs": []
    },
    {
      "cell_type": "markdown",
      "source": [
        "## Metode Euler"
      ],
      "metadata": {
        "id": "ASSkprqeFUof"
      }
    },
    {
      "cell_type": "markdown",
      "source": [
        "# Implementasi"
      ],
      "metadata": {
        "id": "jsIp625rGCkX"
      }
    },
    {
      "cell_type": "markdown",
      "source": [
        "CARA 1"
      ],
      "metadata": {
        "id": "SU56PlrC3xrO"
      }
    },
    {
      "cell_type": "code",
      "source": [
        "import numpy as np\n",
        "import matplotlib.pyplot as plt\n",
        "\n",
        "# ODE SIR Model\n",
        "def SIR(t,y,p):\n",
        "    N = np.sum(y)\n",
        "    return np.array([\n",
        "        - p[0] * y[0] * y[1] / N,\n",
        "        p[0] * y[0] * y[1] / N - p[1] * y[1],\n",
        "        p[1] * y[1]\n",
        "    ])\n",
        "\n",
        "\n",
        "# Classic Runge-Kutta Method of order 4\n",
        "def RK4(t0, y0, h, f, n, **kwargs):\n",
        "    y = np.empty((n + 1, len(y0)),dtype=np.float64)\n",
        "    y[0,:] = y0\n",
        "    t = np.arange(n + 1) * h + t0\n",
        "    param = kwargs.get(\"parameters\",None)\n",
        "\n",
        "    for i in range(n):\n",
        "        k1 = f(t[i], y[i,:], param)\n",
        "        k2 = f(t[i] + h / 2, y[i,:] + h / 2 * k1, param)\n",
        "        k3 = f(t[i] + h / 2, y[i,:] + h / 2 * k2, param)\n",
        "        k4 = f(t[i] + h, y[i,:] + h * k3, param)\n",
        "        y[i + 1,:] = y[i,:] + h * (k1 + 2 * k2 + 2 * k3 + k4) / 6\n",
        "    return t, y\n",
        "\n",
        "def SIR_Model_Example():\n",
        "    infected = 3\n",
        "    susceptible = 997\n",
        "\n",
        "    infection_rate = 0.1\n",
        "    recovery_rate = 0.001\n",
        "    #####################################\n",
        "    y0 = np.array([susceptible,infected,0])\n",
        "    t0 = 0\n",
        "    tn = 100\n",
        "    n = 1000\n",
        "    h = (tn-t0)/n\n",
        "\n",
        "    # Parameters for SIR Modell\n",
        "    p = [infection_rate,recovery_rate]\n",
        "\n",
        "    t,y = RK4(0, y0, h, SIR, n, parameters=p)\n",
        "\n",
        "    fig,ax = plt.subplots()\n",
        "    ax.plot(t,y)\n",
        "    ax.set_title(f\"SIR Model\\n(infection rate = {infection_rate}, recovery rate = {recovery_rate})\")\n",
        "    ax.legend([\"susceptible\", \"infected\", \"recovered/deceased\"], loc=\"center right\")\n",
        "    ax.set(xlabel=\"Time\",\n",
        "           ylabel=\"Total Population\",\n",
        "           )\n",
        "    ax.grid()\n",
        "    plt.show()"
      ],
      "metadata": {
        "id": "zn3keDfz3xW2"
      },
      "execution_count": null,
      "outputs": []
    },
    {
      "cell_type": "code",
      "source": [
        "infected = 3\n",
        "susceptible = 997\n",
        "\n",
        "infection_rate = 0.1\n",
        "recovery_rate = 0.001\n",
        "#####################################\n",
        "y0 = np.array([susceptible,infected,0])\n",
        "t0 = 0\n",
        "tn = 100\n",
        "n = 1000\n",
        "h = (tn-t0)/n\n",
        "y = np.empty((n + 1, len(y0)),dtype=np.float64)\n",
        "y[0,:] = y0\n",
        "N = np.sum(y)\n",
        "print(N)\n",
        "print(n)\n",
        "print(h)"
      ],
      "metadata": {
        "colab": {
          "base_uri": "https://localhost:8080/"
        },
        "id": "Vx9ApR2iNeAE",
        "outputId": "58f7894e-ab66-43df-a912-c53276b22b8b"
      },
      "execution_count": null,
      "outputs": [
        {
          "output_type": "stream",
          "name": "stdout",
          "text": [
            "1000.0\n",
            "1000\n",
            "0.1\n"
          ]
        }
      ]
    },
    {
      "cell_type": "code",
      "source": [
        "if __name__ == \"__main__\":\n",
        "    #SIR_Model_Example()\n",
        "    SIR_Model_Example()"
      ],
      "metadata": {
        "colab": {
          "base_uri": "https://localhost:8080/",
          "height": 310
        },
        "id": "BwHWs-7f35aU",
        "outputId": "08dc8d41-4fba-4cea-addb-1c5c2861064a"
      },
      "execution_count": null,
      "outputs": [
        {
          "output_type": "display_data",
          "data": {
            "text/plain": [
              "<Figure size 432x288 with 1 Axes>"
            ],
            "image/png": "[encoded data removed]"
          },
          "metadata": {
            "needs_background": "light"
          }
        }
      ]
    },
    {
      "cell_type": "markdown",
      "source": [
        "# Hasil dan Pembahasan"
      ],
      "metadata": {
        "id": "dW2p99eRF72A"
      }
    },
    {
      "cell_type": "code",
      "source": [
        ""
      ],
      "metadata": {
        "id": "_Qh3ZJ8B33ri"
      },
      "execution_count": null,
      "outputs": []
    },
    {
      "cell_type": "code",
      "execution_count": null,
      "metadata": {
        "id": "qeEgAE6op5gz"
      },
      "outputs": [],
      "source": [
        ""
      ]
    },
    {
      "cell_type": "markdown",
      "source": [
        "# list"
      ],
      "metadata": {
        "id": "FQL9KkbBOm3-"
      }
    },
    {
      "cell_type": "markdown",
      "source": [
        "- latar belakang model SIR\n",
        "- tulisan metode/alur penelitian \n",
        "- teori runge kutta 4"
      ],
      "metadata": {
        "id": "28hKsptPOft9"
      }
    },
    {
      "cell_type": "code",
      "source": [
        ""
      ],
      "metadata": {
        "id": "abgfsXuZOld9"
      },
      "execution_count": null,
      "outputs": []
    }
  ]
}